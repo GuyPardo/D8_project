{
 "cells": [
  {
   "cell_type": "code",
   "execution_count": 1,
   "id": "2010dc58",
   "metadata": {},
   "outputs": [],
   "source": [
    "from functools import reduce\n",
    "from numpy import ndarray\n",
    "import numpy as np \n",
    "from scipy import special\n",
    "import scipy\n",
    "import matplotlib.pyplot as plt\n",
    "import math\n",
    "import matplotlib as mpl \n",
    "from math import pi\n",
    "from scipy.linalg import logm, expm\n",
    "import matplotlib.pyplot as plt\n",
    "import D8_plaquette as D8\n",
    "import D8_group_operators as D8_op\n",
    "from quspin.basis import spin_basis_1d, tensor_basis, basis_int_to_python_int, spin_basis_general"
   ]
  },
  {
   "cell_type": "code",
   "execution_count": 2,
   "id": "5a7c32f2",
   "metadata": {},
   "outputs": [],
   "source": [
    "#PLAQUETTE:\n",
    "\n",
    "\n",
    "#state interesting for the evolution (in the group element basis, \"geb\")\n",
    "\n",
    "#useful single link states\n",
    "zero_geb = np.zeros(8)\n",
    "for i in range(8):\n",
    "    zero_geb[i] = 1\n",
    "zero_geb = zero_geb/np.linalg.norm(zero_geb)\n",
    "excited_geb = (1/2)*np.array((0, -1, 0, 1, 1, 0, -1, 0))\n",
    "zero_bar_geb = (1/2)*np.array((1, 1, 1, 1, -1, -1, -1, -1))\n",
    "\n",
    "#the trivial one |0,0,0, 0> in repr. basis\n",
    "state_0000 = np.kron(np.kron(np.kron(zero_geb, zero_geb), zero_geb), zero_geb) \n",
    "\n",
    "#a gauge invariant state with an excitation: |200 + 210 - 201 - 211, 0, 0, 0>\n",
    "state_200 = np.kron(np.kron(np.kron(excited_geb, zero_geb), zero_geb), zero_geb)"
   ]
  },
  {
   "cell_type": "code",
   "execution_count": 6,
   "id": "14480836",
   "metadata": {},
   "outputs": [
    {
     "data": {
      "text/plain": [
       "0"
      ]
     },
     "execution_count": 6,
     "metadata": {},
     "output_type": "execute_result"
    }
   ],
   "source": [
    "#PSEUDO 2D\n",
    "\n",
    "#state interesting for the evolution (in the group element basis, \"geb\")\n",
    "\n",
    "#useful single link states\n",
    "zero_geb = np.zeros(8)\n",
    "for i in range(8):\n",
    "    zero_geb[i] = 1\n",
    "zero_geb = zero_geb/np.linalg.norm(zero_geb)\n",
    "excited_geb = (1/2)*np.array((0, 1, 0, -1, 1, 0, -1, 0))\n",
    "\n",
    "\n",
    "#the trivial one |0,0,0> in repr. basis\n",
    "state_000 = np.kron(np.kron(zero_geb, zero_geb), zero_geb)\n",
    "\n",
    "#a gauge invariant state with an excitation: |200 + 210 - 201 - 211, 0, 0>\n",
    "state_200 = np.kron(np.kron(excited_geb , zero_geb), zero_geb)"
   ]
  }
 ],
 "metadata": {
  "kernelspec": {
   "display_name": "ambiente_38",
   "language": "python",
   "name": "ambiente_38"
  },
  "language_info": {
   "codemirror_mode": {
    "name": "ipython",
    "version": 3
   },
   "file_extension": ".py",
   "mimetype": "text/x-python",
   "name": "python",
   "nbconvert_exporter": "python",
   "pygments_lexer": "ipython3",
   "version": "3.8.18"
  }
 },
 "nbformat": 4,
 "nbformat_minor": 5
}
