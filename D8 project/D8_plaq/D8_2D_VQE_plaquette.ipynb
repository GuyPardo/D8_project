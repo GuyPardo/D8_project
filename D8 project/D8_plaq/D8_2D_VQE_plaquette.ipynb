{
 "cells": [
  {
   "cell_type": "code",
   "execution_count": 1,
   "id": "27ea013f",
   "metadata": {
    "ExecuteTime": {
     "end_time": "2024-09-10T11:44:25.172752100Z",
     "start_time": "2024-09-10T11:44:23.589332200Z"
    }
   },
   "outputs": [],
   "source": [
    "from functools import reduce\n",
    "from numpy import ndarray\n",
    "import importlib\n",
    "import numpy as np \n",
    "from scipy import special\n",
    "import scipy\n",
    "import matplotlib.pyplot as plt\n",
    "import math\n",
    "import matplotlib as mpl\n",
    "import matplotlib.pyplot as plt\n",
    "from math import pi\n",
    "from scipy.linalg import logm, expm\n",
    "import matplotlib.pyplot as plt\n",
    "import D8_plaquette as D8\n",
    "importlib.reload(D8)\n",
    "\n",
    "import D8_group_operators as D8_op\n",
    "from quspin.basis import spin_basis_1d, tensor_basis, basis_int_to_python_int, spin_basis_general"
   ]
  },
  {
   "cell_type": "code",
   "execution_count": null,
   "id": "ff6baf97",
   "metadata": {
    "scrolled": true,
    "is_executing": true,
    "ExecuteTime": {
     "start_time": "2024-09-10T11:44:25.219372500Z"
    }
   },
   "outputs": [
    {
     "name": "stdout",
     "output_type": "stream",
     "text": [
      "Hermiticity check:\n",
      "True\n"
     ]
    }
   ],
   "source": [
    "# configuration\n",
    "L = 4  # number of links\n",
    "M = 1  # mass constant \n",
    "J = 1  # interaction strength\n",
    "h = 1  # electric term strength (lambda_E in the notes)\n",
    "lambdaB = 1 #magnetic term strength (lambda_B in the notes)\n",
    "\n",
    "\n",
    "H_J =  D8.H1(J, True) + D8.H2(J, True) + D8.H3(J, True) + D8.H4(J, True)  \n",
    "\n",
    "\n",
    "# full Hamiltonian:\n",
    "H = D8.H_E(h, True) + D8.HB(lambdaB , flip=True) + D8.H_M(J , flip=True) + H_J \n",
    "# H = H_E(0, True) + H_J_single_link(J,1)\n",
    "# check hermiticity\n",
    "print(\"Hermiticity check:\")\n",
    "print(scipy.linalg.ishermitian(H))\n",
    "\n",
    "# plot hamiltonian\n",
    "fig, axs = plt.subplots(1, 2)\n",
    "p1 = axs[0].imshow(np.real(H))\n",
    "p2 = axs[1].imshow(np.imag(H))\n",
    "fig.colorbar(p1)\n",
    "fig.colorbar(p2)\n",
    "\n",
    "axs[0].title.set_text('real(H)')\n",
    "axs[1].title.set_text('imag(H)')\n",
    "\n",
    "# plot spectrum\n",
    "levels = np.linalg.eigvals(H)\n",
    "x = np.ones(np.size(levels))\n",
    "# x = np.arange(len(levels))\n",
    "levels = np.sort(levels)\n",
    "plt.figure()\n",
    "\n",
    "plt.scatter(x, np.real(levels), marker=\"_\", s=9000)\n",
    "plt.grid(axis='y')\n",
    "plt.title(\"eigenvalues of H\")\n"
   ]
  },
  {
   "cell_type": "code",
   "execution_count": null,
   "id": "db6d6c9b",
   "metadata": {
    "is_executing": true
   },
   "outputs": [],
   "source": [
    "TL1 = D8_op.TL(1)\n",
    "TL3 = D8_op.TL(3)\n",
    "TL5 = D8_op.TL(5)\n",
    "TL7 = D8_op.TL(7)\n",
    "TR1 = D8_op.TR(1)\n",
    "TR3 = D8_op.TR(3)\n",
    "TR5 = D8_op.TR(5)\n",
    "TR7 = D8_op.TR(7)\n",
    "I_link = np.eye(8)"
   ]
  },
  {
   "cell_type": "code",
   "execution_count": null,
   "id": "2dfae3b7",
   "metadata": {
    "is_executing": true
   },
   "outputs": [],
   "source": [
    "#Bulding the extra constraint on the different verteces(these are written in the BDBDBD basis, B = qubit and D = qudit)\n",
    "\n",
    "#first vertex (even):\n",
    "g1 = (1/2)*(np.kron(np.kron(np.kron( TL1, I_link), I_link), TL1) + np.kron(np.kron(np.kron( TL3, I_link), I_link), TL3) + np.kron(np.kron(np.kron( TL5, I_link), I_link), TL5) - np.kron(np.kron(np.kron( TL7, I_link), I_link), TL7))\n",
    "\n",
    "#second vertex (even):\n",
    "g2 = (1/2)*(np.kron(np.kron(np.kron( TR1.T, TL1), I_link), I_link) + np.kron(np.kron(np.kron( TR3.T, TL3), I_link), I_link) - np.kron(np.kron(np.kron( TR5.T, TL5), I_link), I_link) + np.kron(np.kron(np.kron( TR7.T, TL7), I_link), I_link))\n",
    "\n",
    "#third vertex (even):\n",
    "g3 = (1/2)*(np.kron(np.kron(np.kron(I_link, TR1.T), TR1.T), I_link) + np.kron(np.kron(np.kron(I_link, TR3.T), TR3.T), I_link) + np.kron(np.kron(np.kron(I_link, TR5.T), TR5.T), I_link) - np.kron(np.kron(np.kron(I_link, TR7.T), TR7.T), I_link))\n",
    "\n",
    "#fourth vertex (odd site)\n",
    "\n",
    "g4 = (1/2)*(np.kron(np.kron(np.kron(I_link, I_link), TL1), TR1.T) + np.kron(np.kron(np.kron(I_link, I_link), TL3), TR3.T) - np.kron(np.kron(np.kron(I_link, I_link), TL5), TR5.T) + np.kron(np.kron(np.kron(I_link, I_link), TL7), TR7.T))"
   ]
  },
  {
   "cell_type": "code",
   "execution_count": null,
   "id": "2fa2ae40",
   "metadata": {
    "is_executing": true
   },
   "outputs": [],
   "source": [
    "#The Hamiltonian has been written in the BBBBDDDD basis and therefore we define a transformation that allows us to \n",
    "#pass to this basis.\n",
    "\n",
    "# flip order of levels to fit with the quspin convention\n",
    "U2 = np.fliplr(np.eye(2**4))  # for the qubits\n",
    "U4 = np.fliplr(np.eye(4**4))  # for the qudits\n",
    "UU = np.kron(U2, U4)\n",
    "\n",
    "G1 = UU@D8_op.change_basis(g1)@UU\n",
    "G2 = UU@D8_op.change_basis(g2)@UU\n",
    "G3 = UU@D8_op.change_basis(g3)@UU\n",
    "G4 = UU@D8_op.change_basis(g4)@UU\n",
    "\n",
    "\n",
    "# convert:\n",
    "#plt.imshow(G1)\n",
    "#plt.title(\"G1 converted to the BBBBDDDD basis\")\n",
    "#plt.savefig('finale.png')\n",
    "#plt.show()"
   ]
  },
  {
   "cell_type": "code",
   "execution_count": null,
   "id": "df047948",
   "metadata": {
    "is_executing": true
   },
   "outputs": [],
   "source": [
    "commutator_result = np.dot(H, G2) - np.dot(G2, H)\n",
    "len(commutator_result)"
   ]
  },
  {
   "cell_type": "code",
   "execution_count": null,
   "id": "8bbb5f12",
   "metadata": {
    "is_executing": true
   },
   "outputs": [],
   "source": [
    "count1 = 0\n",
    "count2 = 0 \n",
    "for i in range(512):\n",
    "    for j in range(512):\n",
    "        if commutator_result[i][j] != 0:\n",
    "            print(commutator_result[i][j])\n",
    "            if commutator_result[i][j] > 0:\n",
    "                count1 = count1 + 1\n",
    "            else:\n",
    "                count2 = count2 + 1"
   ]
  },
  {
   "cell_type": "code",
   "execution_count": null,
   "id": "00aac2ea",
   "metadata": {
    "is_executing": true
   },
   "outputs": [],
   "source": [
    "count1"
   ]
  },
  {
   "cell_type": "code",
   "execution_count": null,
   "id": "0293116d",
   "metadata": {
    "is_executing": true
   },
   "outputs": [],
   "source": [
    "count2"
   ]
  },
  {
   "cell_type": "code",
   "outputs": [],
   "source": [
    "def comm(A,B):\n",
    "    return A@B - B@A\n",
    "\n",
    "com = comm(H, G1 + G3+ G2 + G4)\n",
    "# com = comm(D8.H1(J,True), G1 + G3+ G2 + G4)\n",
    "print((np.abs(com)>1e-12).any())"
   ],
   "metadata": {
    "collapsed": false,
    "is_executing": true
   },
   "id": "7acb09009db1f41f",
   "execution_count": null
  },
  {
   "cell_type": "code",
   "outputs": [],
   "source": [
    "plt.imshow(np.abs(com))\n",
    "plt.colorbar()\n",
    "plt.xlim([2000,2210])\n",
    "plt.ylim([3000,2800])\n",
    "plt.show()"
   ],
   "metadata": {
    "collapsed": false,
    "is_executing": true
   },
   "id": "834c19e504c6f446",
   "execution_count": null
  },
  {
   "cell_type": "code",
   "outputs": [],
   "source": [
    "\n"
   ],
   "metadata": {
    "collapsed": false,
    "is_executing": true
   },
   "id": "f7cf3a9053abdc5",
   "execution_count": null
  },
  {
   "cell_type": "code",
   "execution_count": null,
   "id": "47334a01",
   "metadata": {
    "is_executing": true
   },
   "outputs": [],
   "source": []
  },
  {
   "cell_type": "code",
   "execution_count": null,
   "id": "5e006cf9",
   "metadata": {
    "is_executing": true
   },
   "outputs": [],
   "source": []
  },
  {
   "cell_type": "code",
   "execution_count": null,
   "id": "9edf7827",
   "metadata": {
    "is_executing": true
   },
   "outputs": [],
   "source": [
    "lam = 10\n",
    "eignval, eignvec = scipy.linalg.eigh(H)\n",
    "print(eignval[0])\n",
    "I = np.eye(8**4)\n",
    "eignval1, eignvec1 = scipy.linalg.eigh(H + lam*((G1-I)@(G1-I) + (G2-I)@(G2-I) +(G3-I)@(G3-I) +(G4-I)@(G4-I)))\n",
    "print(eignval1[0])\n"
   ]
  },
  {
   "cell_type": "code",
   "execution_count": null,
   "id": "29d9d771",
   "metadata": {
    "is_executing": true
   },
   "outputs": [],
   "source": [
    "plt.plot(np.abs(eignvec1[0])**2)\n",
    "plt.show()      \n",
    "\n"
   ]
  },
  {
   "cell_type": "code",
   "execution_count": null,
   "id": "87a80832",
   "metadata": {
    "is_executing": true
   },
   "outputs": [],
   "source": [
    "eignval, eignvec = scipy.linalg.eigh(G1)\n",
    "for i in range(4096):\n",
    "    print(eignval[i])"
   ]
  },
  {
   "cell_type": "code",
   "execution_count": null,
   "id": "a26c7db6",
   "metadata": {
    "is_executing": true
   },
   "outputs": [],
   "source": []
  },
  {
   "cell_type": "code",
   "execution_count": null,
   "id": "cb14e5d7",
   "metadata": {
    "is_executing": true
   },
   "outputs": [],
   "source": []
  }
 ],
 "metadata": {
  "kernelspec": {
   "name": "python3",
   "language": "python",
   "display_name": "Python 3 (ipykernel)"
  },
  "language_info": {
   "codemirror_mode": {
    "name": "ipython",
    "version": 3
   },
   "file_extension": ".py",
   "mimetype": "text/x-python",
   "name": "python",
   "nbconvert_exporter": "python",
   "pygments_lexer": "ipython3",
   "version": "3.8.18"
  }
 },
 "nbformat": 4,
 "nbformat_minor": 5
}
